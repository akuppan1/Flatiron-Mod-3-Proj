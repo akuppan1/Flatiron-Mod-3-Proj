{
 "cells": [
  {
   "cell_type": "code",
   "execution_count": 73,
   "metadata": {},
   "outputs": [],
   "source": [
    "#First we import everything\n",
    "import pandas as pd\n",
    "import matplotlib.pyplot as plt\n",
    "import scipy.stats\n",
    "import numpy as np\n",
    "import re\n",
    "from sklearn.preprocessing import StandardScaler\n",
    "scalar = StandardScaler()\n",
    "%matplotlib inline\n",
    "from sklearn.model_selection import train_test_split\n",
    "from sklearn.metrics import accuracy_score, confusion_matrix, classification_report\n",
    "from sklearn.tree import DecisionTreeClassifier\n",
    "from sklearn.ensemble import BaggingClassifier, RandomForestClassifier\n",
    "from statistics import mode"
   ]
  },
  {
   "cell_type": "code",
   "execution_count": 74,
   "metadata": {},
   "outputs": [
    {
     "data": {
      "text/html": [
       "<div>\n",
       "<style scoped>\n",
       "    .dataframe tbody tr th:only-of-type {\n",
       "        vertical-align: middle;\n",
       "    }\n",
       "\n",
       "    .dataframe tbody tr th {\n",
       "        vertical-align: top;\n",
       "    }\n",
       "\n",
       "    .dataframe thead th {\n",
       "        text-align: right;\n",
       "    }\n",
       "</style>\n",
       "<table border=\"1\" class=\"dataframe\">\n",
       "  <thead>\n",
       "    <tr style=\"text-align: right;\">\n",
       "      <th></th>\n",
       "      <th>customerID</th>\n",
       "      <th>gender</th>\n",
       "      <th>SeniorCitizen</th>\n",
       "      <th>Partner</th>\n",
       "      <th>Dependents</th>\n",
       "      <th>tenure</th>\n",
       "      <th>PhoneService</th>\n",
       "      <th>MultipleLines</th>\n",
       "      <th>InternetService</th>\n",
       "      <th>OnlineSecurity</th>\n",
       "      <th>...</th>\n",
       "      <th>DeviceProtection</th>\n",
       "      <th>TechSupport</th>\n",
       "      <th>StreamingTV</th>\n",
       "      <th>StreamingMovies</th>\n",
       "      <th>Contract</th>\n",
       "      <th>PaperlessBilling</th>\n",
       "      <th>PaymentMethod</th>\n",
       "      <th>MonthlyCharges</th>\n",
       "      <th>TotalCharges</th>\n",
       "      <th>Churn</th>\n",
       "    </tr>\n",
       "  </thead>\n",
       "  <tbody>\n",
       "    <tr>\n",
       "      <th>0</th>\n",
       "      <td>7590-VHVEG</td>\n",
       "      <td>Female</td>\n",
       "      <td>0</td>\n",
       "      <td>Yes</td>\n",
       "      <td>No</td>\n",
       "      <td>1</td>\n",
       "      <td>No</td>\n",
       "      <td>No phone service</td>\n",
       "      <td>DSL</td>\n",
       "      <td>No</td>\n",
       "      <td>...</td>\n",
       "      <td>No</td>\n",
       "      <td>No</td>\n",
       "      <td>No</td>\n",
       "      <td>No</td>\n",
       "      <td>Month-to-month</td>\n",
       "      <td>Yes</td>\n",
       "      <td>Electronic check</td>\n",
       "      <td>29.85</td>\n",
       "      <td>29.85</td>\n",
       "      <td>No</td>\n",
       "    </tr>\n",
       "    <tr>\n",
       "      <th>1</th>\n",
       "      <td>5575-GNVDE</td>\n",
       "      <td>Male</td>\n",
       "      <td>0</td>\n",
       "      <td>No</td>\n",
       "      <td>No</td>\n",
       "      <td>34</td>\n",
       "      <td>Yes</td>\n",
       "      <td>No</td>\n",
       "      <td>DSL</td>\n",
       "      <td>Yes</td>\n",
       "      <td>...</td>\n",
       "      <td>Yes</td>\n",
       "      <td>No</td>\n",
       "      <td>No</td>\n",
       "      <td>No</td>\n",
       "      <td>One year</td>\n",
       "      <td>No</td>\n",
       "      <td>Mailed check</td>\n",
       "      <td>56.95</td>\n",
       "      <td>1889.5</td>\n",
       "      <td>No</td>\n",
       "    </tr>\n",
       "    <tr>\n",
       "      <th>2</th>\n",
       "      <td>3668-QPYBK</td>\n",
       "      <td>Male</td>\n",
       "      <td>0</td>\n",
       "      <td>No</td>\n",
       "      <td>No</td>\n",
       "      <td>2</td>\n",
       "      <td>Yes</td>\n",
       "      <td>No</td>\n",
       "      <td>DSL</td>\n",
       "      <td>Yes</td>\n",
       "      <td>...</td>\n",
       "      <td>No</td>\n",
       "      <td>No</td>\n",
       "      <td>No</td>\n",
       "      <td>No</td>\n",
       "      <td>Month-to-month</td>\n",
       "      <td>Yes</td>\n",
       "      <td>Mailed check</td>\n",
       "      <td>53.85</td>\n",
       "      <td>108.15</td>\n",
       "      <td>Yes</td>\n",
       "    </tr>\n",
       "    <tr>\n",
       "      <th>3</th>\n",
       "      <td>7795-CFOCW</td>\n",
       "      <td>Male</td>\n",
       "      <td>0</td>\n",
       "      <td>No</td>\n",
       "      <td>No</td>\n",
       "      <td>45</td>\n",
       "      <td>No</td>\n",
       "      <td>No phone service</td>\n",
       "      <td>DSL</td>\n",
       "      <td>Yes</td>\n",
       "      <td>...</td>\n",
       "      <td>Yes</td>\n",
       "      <td>Yes</td>\n",
       "      <td>No</td>\n",
       "      <td>No</td>\n",
       "      <td>One year</td>\n",
       "      <td>No</td>\n",
       "      <td>Bank transfer (automatic)</td>\n",
       "      <td>42.30</td>\n",
       "      <td>1840.75</td>\n",
       "      <td>No</td>\n",
       "    </tr>\n",
       "    <tr>\n",
       "      <th>4</th>\n",
       "      <td>9237-HQITU</td>\n",
       "      <td>Female</td>\n",
       "      <td>0</td>\n",
       "      <td>No</td>\n",
       "      <td>No</td>\n",
       "      <td>2</td>\n",
       "      <td>Yes</td>\n",
       "      <td>No</td>\n",
       "      <td>Fiber optic</td>\n",
       "      <td>No</td>\n",
       "      <td>...</td>\n",
       "      <td>No</td>\n",
       "      <td>No</td>\n",
       "      <td>No</td>\n",
       "      <td>No</td>\n",
       "      <td>Month-to-month</td>\n",
       "      <td>Yes</td>\n",
       "      <td>Electronic check</td>\n",
       "      <td>70.70</td>\n",
       "      <td>151.65</td>\n",
       "      <td>Yes</td>\n",
       "    </tr>\n",
       "  </tbody>\n",
       "</table>\n",
       "<p>5 rows × 21 columns</p>\n",
       "</div>"
      ],
      "text/plain": [
       "   customerID  gender  SeniorCitizen Partner Dependents  tenure PhoneService  \\\n",
       "0  7590-VHVEG  Female              0     Yes         No       1           No   \n",
       "1  5575-GNVDE    Male              0      No         No      34          Yes   \n",
       "2  3668-QPYBK    Male              0      No         No       2          Yes   \n",
       "3  7795-CFOCW    Male              0      No         No      45           No   \n",
       "4  9237-HQITU  Female              0      No         No       2          Yes   \n",
       "\n",
       "      MultipleLines InternetService OnlineSecurity  ... DeviceProtection  \\\n",
       "0  No phone service             DSL             No  ...               No   \n",
       "1                No             DSL            Yes  ...              Yes   \n",
       "2                No             DSL            Yes  ...               No   \n",
       "3  No phone service             DSL            Yes  ...              Yes   \n",
       "4                No     Fiber optic             No  ...               No   \n",
       "\n",
       "  TechSupport StreamingTV StreamingMovies        Contract PaperlessBilling  \\\n",
       "0          No          No              No  Month-to-month              Yes   \n",
       "1          No          No              No        One year               No   \n",
       "2          No          No              No  Month-to-month              Yes   \n",
       "3         Yes          No              No        One year               No   \n",
       "4          No          No              No  Month-to-month              Yes   \n",
       "\n",
       "               PaymentMethod MonthlyCharges  TotalCharges Churn  \n",
       "0           Electronic check          29.85         29.85    No  \n",
       "1               Mailed check          56.95        1889.5    No  \n",
       "2               Mailed check          53.85        108.15   Yes  \n",
       "3  Bank transfer (automatic)          42.30       1840.75    No  \n",
       "4           Electronic check          70.70        151.65   Yes  \n",
       "\n",
       "[5 rows x 21 columns]"
      ]
     },
     "execution_count": 74,
     "metadata": {},
     "output_type": "execute_result"
    }
   ],
   "source": [
    "df_churndata = pd.read_csv('WA_Fn-UseC_-Telco-Customer-Churn.csv')\n",
    "df_churndata.head()"
   ]
  },
  {
   "cell_type": "code",
   "execution_count": 128,
   "metadata": {},
   "outputs": [
    {
     "data": {
      "text/plain": [
       "Month-to-month    3875\n",
       "Two year          1695\n",
       "One year          1473\n",
       "Name: Contract, dtype: int64"
      ]
     },
     "execution_count": 128,
     "metadata": {},
     "output_type": "execute_result"
    },
    {
     "data": {
      "image/png": "[encoded data removed]",
      "text/plain": [
       "<Figure size 432x288 with 1 Axes>"
      ]
     },
     "metadata": {
      "needs_background": "light"
     },
     "output_type": "display_data"
    }
   ],
   "source": [
    "# plt.hist(df_churndata1.Contract)\n",
    "\n",
    "contract_month_to_month = (df_churndata['Contract'].value_counts())\n",
    "x = ['month_to_month', '1_year', '2_year']\n",
    "plt.bar(x, contract_month_to_month)\n",
    "plt.suptitle(\"Number of Contract types\")\n",
    "\n",
    "contract_month_to_month"
   ]
  },
  {
   "cell_type": "code",
   "execution_count": 76,
   "metadata": {},
   "outputs": [
    {
     "data": {
      "image/png": "[encoded data removed]",
      "text/plain": [
       "<Figure size 432x432 with 1 Axes>"
      ]
     },
     "metadata": {},
     "output_type": "display_data"
    }
   ],
   "source": [
    "#Pie chart of Contract types\n",
    "\n",
    "d = {'Contract Type': [3875, 1695, 1473]}\n",
    "df_pie_contract_types = pd.DataFrame(data=d, index=['month_to_month','1_year','2_year'])\n",
    "plot = df_pie_contract_types.plot.pie(y='Contract Type', autopct='%1.1f%%', figsize=(6, 6))"
   ]
  },
  {
   "cell_type": "code",
   "execution_count": 77,
   "metadata": {},
   "outputs": [],
   "source": [
    "#I want to find out Churn data in each Contract type\n",
    "\n",
    "churn_yes = df_churndata['Churn'] == 'Yes'\n",
    "churn_yes_df = df_churndata[churn_yes]\n",
    "# Contract_month2month = "
   ]
  },
  {
   "cell_type": "code",
   "execution_count": 78,
   "metadata": {},
   "outputs": [
    {
     "data": {
      "text/plain": [
       "Month-to-month    1655\n",
       "Name: Contract, dtype: int64"
      ]
     },
     "execution_count": 78,
     "metadata": {},
     "output_type": "execute_result"
    }
   ],
   "source": [
    "m2m = churn_yes_df['Contract'] == 'Month-to-month'\n",
    "churn_yes_df[m2m].Contract.value_counts()"
   ]
  },
  {
   "cell_type": "code",
   "execution_count": 79,
   "metadata": {
    "scrolled": true
   },
   "outputs": [
    {
     "data": {
      "image/png": "[encoded data removed]",
      "text/plain": [
       "<Figure size 432x432 with 1 Axes>"
      ]
     },
     "metadata": {},
     "output_type": "display_data"
    }
   ],
   "source": [
    "#Contract Pie chart month to month\n",
    "d = {'Month to Month': [1655, 2220]}\n",
    "df_pie_m2m = pd.DataFrame(data=d, index=['Churn','NO Churn'])\n",
    "plot = df_pie_m2m.plot.pie(y='Month to Month', autopct='%1.1f%%', figsize=(6, 6))"
   ]
  },
  {
   "cell_type": "code",
   "execution_count": 80,
   "metadata": {},
   "outputs": [],
   "source": [
    "one_year = churn_yes_df['Contract'] == 'One year'\n",
    "churn_yes_one_year = churn_yes_df[one_year]\n",
    "# churn_yes_one_year.info()\n",
    "#166 yes churn and 1473 total, meaning 1307 no churn"
   ]
  },
  {
   "cell_type": "code",
   "execution_count": 81,
   "metadata": {},
   "outputs": [
    {
     "data": {
      "image/png": "[encoded data removed]",
      "text/plain": [
       "<Figure size 468x468 with 1 Axes>"
      ]
     },
     "metadata": {},
     "output_type": "display_data"
    }
   ],
   "source": [
    "d = {'One Year Contract': [166, 1307]}\n",
    "df_pie_1yr = pd.DataFrame(data=d, index=['Churn','NO Churn'])\n",
    "plot = df_pie_1yr.plot.pie(y='One Year Contract', autopct='%1.1f%%', figsize=(6.5, 6.5))"
   ]
  },
  {
   "cell_type": "code",
   "execution_count": 82,
   "metadata": {},
   "outputs": [],
   "source": [
    "two_year = churn_yes_df['Contract'] == 'Two year'\n",
    "churn_yes_two_year = churn_yes_df[two_year]\n",
    "# churn_yes_two_year.info()\n",
    "#48 yes churn entries, 1695 total, meaning 1647 no churns"
   ]
  },
  {
   "cell_type": "code",
   "execution_count": 83,
   "metadata": {},
   "outputs": [
    {
     "data": {
      "image/png": "[encoded data removed]",
      "text/plain": [
       "<Figure size 468x468 with 1 Axes>"
      ]
     },
     "metadata": {},
     "output_type": "display_data"
    }
   ],
   "source": [
    "d = {'Two Year Contract': [48, 1647]}\n",
    "df_pie_2yr = pd.DataFrame(data=d, index=['Churn','NO Churn'])\n",
    "plot = df_pie_2yr.plot.pie(y='Two Year Contract', autopct='%1.1f%%', figsize=(6.5, 6.5))"
   ]
  },
  {
   "cell_type": "code",
   "execution_count": 84,
   "metadata": {},
   "outputs": [],
   "source": [
    "#Based on above data, we can see that month-to-month contracts show the highest churn and longer contracts trend lower churn"
   ]
  },
  {
   "cell_type": "code",
   "execution_count": 85,
   "metadata": {},
   "outputs": [
    {
     "data": {
      "text/plain": [
       "Text(0.5, 0.98, 'Number Churn vs. Tenure range')"
      ]
     },
     "execution_count": 85,
     "metadata": {},
     "output_type": "execute_result"
    },
    {
     "data": {
      "image/png": "[encoded data removed]",
      "text/plain": [
       "<Figure size 432x288 with 1 Axes>"
      ]
     },
     "metadata": {
      "needs_background": "light"
     },
     "output_type": "display_data"
    }
   ],
   "source": [
    "#NOW WE LOOK AT TENURE VS CHURN\n",
    "#split the tenure into yes churn vs no churn\n",
    "#See how big each dataframe is\n",
    "#Make a histogram plot of each dataframe \n",
    "#get averages and all that stuff for tenure months\n",
    "#make an observation of the data\n",
    "\n",
    "churn_yes_df['tenure'].hist(bins = 24)\n",
    "churn_yes_df['tenure'].shape[0]\n",
    "plt.suptitle(\"Number Churn vs. Tenure range\")"
   ]
  },
  {
   "cell_type": "code",
   "execution_count": 86,
   "metadata": {},
   "outputs": [
    {
     "data": {
      "text/plain": [
       "(0.928, 3.958]      597\n",
       "(3.958, 6.917]      187\n",
       "(6.917, 9.875]      139\n",
       "(9.875, 12.833]     114\n",
       "(12.833, 15.792]     99\n",
       "(15.792, 18.75]      78\n",
       "(21.708, 24.667]     63\n",
       "(18.75, 21.708]      54\n",
       "(24.667, 27.625]     51\n",
       "(30.583, 33.542]     49\n",
       "(27.625, 30.583]     43\n",
       "(36.5, 39.458]       42\n",
       "(39.458, 42.417]     41\n",
       "(33.542, 36.5]       37\n",
       "(45.375, 48.333]     35\n",
       "(51.292, 54.25]      35\n",
       "(48.333, 51.292]     33\n",
       "(66.083, 69.042]     27\n",
       "(42.417, 45.375]     27\n",
       "(54.25, 57.208]      27\n",
       "(63.125, 66.083]     26\n",
       "(57.208, 60.167]     25\n",
       "(69.042, 72.0]       23\n",
       "(60.167, 63.125]     17\n",
       "Name: tenure, dtype: int64"
      ]
     },
     "execution_count": 86,
     "metadata": {},
     "output_type": "execute_result"
    }
   ],
   "source": [
    "churn_yes_df['tenure'].value_counts(bins=24)\n",
    "#We see a significant amount between 1-4 months"
   ]
  },
  {
   "cell_type": "code",
   "execution_count": 87,
   "metadata": {},
   "outputs": [
    {
     "data": {
      "text/plain": [
       "Text(0.5, 0.98, 'Churn number in 18 month ranges')"
      ]
     },
     "execution_count": 87,
     "metadata": {},
     "output_type": "execute_result"
    },
    {
     "data": {
      "image/png": "[encoded data removed]",
      "text/plain": [
       "<Figure size 432x288 with 1 Axes>"
      ]
     },
     "metadata": {
      "needs_background": "light"
     },
     "output_type": "display_data"
    }
   ],
   "source": [
    "churn_yes_df['tenure'].hist(bins = 6)\n",
    "#We see significant churns in the first 18 months with a major portion between 1-4 months\n",
    "plt.suptitle(\"Churn number in 18 month ranges\")"
   ]
  },
  {
   "cell_type": "code",
   "execution_count": 88,
   "metadata": {},
   "outputs": [
    {
     "data": {
      "text/plain": [
       "(0.928, 12.833]     1037\n",
       "(12.833, 24.667]     294\n",
       "(24.667, 36.5]       180\n",
       "(36.5, 48.333]       145\n",
       "(48.333, 60.167]     120\n",
       "(60.167, 72.0]        93\n",
       "Name: tenure, dtype: int64"
      ]
     },
     "execution_count": 88,
     "metadata": {},
     "output_type": "execute_result"
    }
   ],
   "source": [
    "#First 12 months = 1037 total, with 597 churn in 1-4 months!!!\n",
    "## 49.17% of the churn in the first 18 months happens in the first 4 months!!!!!!!!!!!!!\n",
    "churn_yes_df['tenure'].value_counts(bins=6)"
   ]
  },
  {
   "cell_type": "code",
   "execution_count": 89,
   "metadata": {},
   "outputs": [
    {
     "data": {
      "image/png": "[encoded data removed]",
      "text/plain": [
       "<Figure size 468x468 with 1 Axes>"
      ]
     },
     "metadata": {},
     "output_type": "display_data"
    }
   ],
   "source": [
    "d = {'First 4 months': [597, 440]}\n",
    "df_pie_1yr = pd.DataFrame(data=d, index=['1-4 months','4-12 months'])\n",
    "plot = df_pie_1yr.plot.pie(y='First 4 months', autopct='%1.1f%%', figsize=(6.5, 6.5))\n",
    "#more than half churns in the first 4 months! AVOID short term contracts!"
   ]
  },
  {
   "cell_type": "code",
   "execution_count": 90,
   "metadata": {},
   "outputs": [
    {
     "data": {
      "text/plain": [
       "(0.928, 12.833]     1037\n",
       "(12.833, 24.667]     294\n",
       "(24.667, 36.5]       180\n",
       "(36.5, 48.333]       145\n",
       "(48.333, 60.167]     120\n",
       "(60.167, 72.0]        93\n",
       "Name: tenure, dtype: int64"
      ]
     },
     "execution_count": 90,
     "metadata": {},
     "output_type": "execute_result"
    }
   ],
   "source": [
    "churn_yes_df['tenure'].value_counts(bins=6)"
   ]
  },
  {
   "cell_type": "code",
   "execution_count": 91,
   "metadata": {},
   "outputs": [
    {
     "data": {
      "image/png": "[encoded data removed]",
      "text/plain": [
       "<Figure size 468x468 with 1 Axes>"
      ]
     },
     "metadata": {},
     "output_type": "display_data"
    }
   ],
   "source": [
    "#I should move this up first in the presentation to show that there are significant amount of churns in the first year. Then dive deep into how much\n",
    "p = churn_yes_df['tenure'].value_counts(bins=6).to_list()\n",
    "d = {'Tenure ranges': p}\n",
    "df_pie_tenures = pd.DataFrame(data=d, index=['1-12','12-24','24-36','36-48','48-60', '60-72'])\n",
    "plot = df_pie_tenures.plot.pie(y='Tenure ranges', autopct='%1.1f%%', figsize=(6.5, 6.5))"
   ]
  },
  {
   "cell_type": "code",
   "execution_count": 92,
   "metadata": {},
   "outputs": [
    {
     "name": "stdout",
     "output_type": "stream",
     "text": [
      "YES CHURN - Mean tenure is:  17.98 months.\n",
      "YES CHURN - Median tenure is:  10.0 months.\n",
      "YES CHURN - Mode tenure is:  1 month.\n",
      "YES CHURN - The number of contracts with tenure of 1 month is 380.\n"
     ]
    }
   ],
   "source": [
    "print('YES CHURN - Mean tenure is: ',   churn_yes_df.tenure.mean().round(2),   'months.')\n",
    "print('YES CHURN - Median tenure is: ', churn_yes_df.tenure.median().round(2), 'months.')\n",
    "print('YES CHURN - Mode tenure is: ',   churn_yes_df.tenure.mode()[0],   'month.')\n",
    "tenure_1 = churn_yes_df.tenure == 1\n",
    "tenure_1.value_counts()\n",
    "print('YES CHURN - The number of contracts with tenure of 1 month is 380.')"
   ]
  },
  {
   "cell_type": "code",
   "execution_count": 93,
   "metadata": {},
   "outputs": [
    {
     "data": {
      "text/plain": [
       "count    1869.000000\n",
       "mean       17.979133\n",
       "std        19.531123\n",
       "min         1.000000\n",
       "25%         2.000000\n",
       "50%        10.000000\n",
       "75%        29.000000\n",
       "max        72.000000\n",
       "Name: tenure, dtype: float64"
      ]
     },
     "execution_count": 93,
     "metadata": {},
     "output_type": "execute_result"
    }
   ],
   "source": [
    "churn_yes_df['tenure'].describe()"
   ]
  },
  {
   "cell_type": "code",
   "execution_count": 94,
   "metadata": {},
   "outputs": [
    {
     "data": {
      "text/plain": [
       "Text(0.5, 0.98, 'Analysis of No-Churn in tenure range')"
      ]
     },
     "execution_count": 94,
     "metadata": {},
     "output_type": "execute_result"
    },
    {
     "data": {
      "image/png": "[encoded data removed]",
      "text/plain": [
       "<Figure size 432x288 with 1 Axes>"
      ]
     },
     "metadata": {
      "needs_background": "light"
     },
     "output_type": "display_data"
    }
   ],
   "source": [
    "#Now we see NO Churn\n",
    "\n",
    "churn_no = df_churndata['Churn'] == 'No'\n",
    "churn_no_df = df_churndata[churn_no]\n",
    "churn_no_df['tenure'].hist(bins=24)\n",
    "churn_no_df['tenure'].shape[0]\n",
    "plt.suptitle(\"Analysis of No-Churn in tenure range\")"
   ]
  },
  {
   "cell_type": "code",
   "execution_count": 95,
   "metadata": {},
   "outputs": [
    {
     "name": "stdout",
     "output_type": "stream",
     "text": [
      "NO CHURN - Mean tenure is:  37.57 months.\n",
      "NO CHURN - Median tenure is:  38.0 months.\n",
      "NO CHURN - Mode tenure is:  72 months.\n",
      "NO CHURN - The number of contracts with tenure of 72 months is 356.\n"
     ]
    }
   ],
   "source": [
    "#Would ya look at that? No churn shows the higher number of long term contracts\n",
    "\n",
    "print('NO CHURN - Mean tenure is: ',   churn_no_df.tenure.mean().round(2),   'months.')\n",
    "print('NO CHURN - Median tenure is: ', churn_no_df.tenure.median().round(2), 'months.')\n",
    "print('NO CHURN - Mode tenure is: ',   churn_no_df.tenure.mode()[0],   'months.')\n",
    "tenure_1 = churn_no_df.tenure == 72\n",
    "tenure_1.value_counts()\n",
    "print('NO CHURN - The number of contracts with tenure of 72 months is 356.')"
   ]
  },
  {
   "cell_type": "code",
   "execution_count": 96,
   "metadata": {},
   "outputs": [
    {
     "data": {
      "text/plain": [
       "(60.0, 72.0]      1314\n",
       "(-0.073, 12.0]    1149\n",
       "(12.0, 24.0]       730\n",
       "(48.0, 60.0]       712\n",
       "(24.0, 36.0]       652\n",
       "(36.0, 48.0]       617\n",
       "Name: tenure, dtype: int64"
      ]
     },
     "execution_count": 96,
     "metadata": {},
     "output_type": "execute_result"
    }
   ],
   "source": [
    "churn_no_df['tenure'].value_counts(bins=6)"
   ]
  },
  {
   "cell_type": "code",
   "execution_count": 97,
   "metadata": {},
   "outputs": [],
   "source": [
    "#What if we drop the tenure outliers?\n",
    "#What if we removed the 1 and then re ran all the metrics?\n",
    "#We if we removed the largest amount and then re-ran the avg, etc?"
   ]
  },
  {
   "cell_type": "code",
   "execution_count": null,
   "metadata": {},
   "outputs": [],
   "source": []
  },
  {
   "cell_type": "code",
   "execution_count": 98,
   "metadata": {},
   "outputs": [
    {
     "data": {
      "text/plain": [
       "count    5174.000000\n",
       "mean       37.569965\n",
       "std        24.113777\n",
       "min         0.000000\n",
       "25%        15.000000\n",
       "50%        38.000000\n",
       "75%        61.000000\n",
       "max        72.000000\n",
       "Name: tenure, dtype: float64"
      ]
     },
     "execution_count": 98,
     "metadata": {},
     "output_type": "execute_result"
    }
   ],
   "source": [
    "churn_no_df['tenure'].describe()"
   ]
  },
  {
   "cell_type": "code",
   "execution_count": 99,
   "metadata": {},
   "outputs": [],
   "source": [
    "#We see that mean for yes_churn is ~18 months and mean for no_churn is ~37.5 months almost double the amount.\n",
    "#To reduce our churn, we need to let go of these 1 month people."
   ]
  },
  {
   "cell_type": "code",
   "execution_count": 100,
   "metadata": {},
   "outputs": [],
   "source": [
    "#Lets focus on churn spikes if there are any versus tenure\n",
    "#Scatterplot/lineplot? tenure as the x axis, y = churn 0 or 1 as y axis\n",
    "#How would I do this?"
   ]
  },
  {
   "cell_type": "code",
   "execution_count": 101,
   "metadata": {},
   "outputs": [
    {
     "data": {
      "text/plain": [
       "count    380.000000\n",
       "mean      58.197368\n",
       "std       23.816448\n",
       "min       18.850000\n",
       "25%       43.787500\n",
       "50%       69.375000\n",
       "75%       75.512500\n",
       "max      102.450000\n",
       "Name: MonthlyCharges, dtype: float64"
      ]
     },
     "execution_count": 101,
     "metadata": {},
     "output_type": "execute_result"
    }
   ],
   "source": [
    "#Monthly Charges\n",
    "#What is the monthly charge of a 1 month contract that churns? - Get rid of this program - unecessary amount of time is wasted here\n",
    "\n",
    "# churn_yes_df.info()\n",
    "momo = churn_yes_df[(churn_yes_df['tenure'] == 1)]\n",
    "momo.MonthlyCharges.describe()\n"
   ]
  },
  {
   "cell_type": "code",
   "execution_count": 102,
   "metadata": {},
   "outputs": [
    {
     "data": {
      "text/plain": [
       "Text(0.5, 0.98, 'Tenure of 1 month, Monthly charge range amongst Churned customers')"
      ]
     },
     "execution_count": 102,
     "metadata": {},
     "output_type": "execute_result"
    },
    {
     "data": {
      "image/png": "[encoded data removed]",
      "text/plain": [
       "<Figure size 432x288 with 1 Axes>"
      ]
     },
     "metadata": {
      "needs_background": "light"
     },
     "output_type": "display_data"
    }
   ],
   "source": [
    "momo.MonthlyCharges.hist(bins=20)\n",
    "plt.suptitle(\"Tenure of 1 month, Monthly charge range amongst Churned customers\")"
   ]
  },
  {
   "cell_type": "code",
   "execution_count": 103,
   "metadata": {},
   "outputs": [
    {
     "data": {
      "text/plain": [
       "Text(0.5, 0.98, 'Monthly Charges amongst non-churned customers')"
      ]
     },
     "execution_count": 103,
     "metadata": {},
     "output_type": "execute_result"
    },
    {
     "data": {
      "image/png": "[encoded data removed]",
      "text/plain": [
       "<Figure size 432x288 with 1 Axes>"
      ]
     },
     "metadata": {
      "needs_background": "light"
     },
     "output_type": "display_data"
    }
   ],
   "source": [
    "#Lets check no churn monthly charges\n",
    "nomo = churn_no_df[(churn_no_df['tenure'] == 72)]\n",
    "nomo.MonthlyCharges.hist(bins=24)\n",
    "plt.suptitle(\"Monthly Charges amongst non-churned customers\")"
   ]
  },
  {
   "cell_type": "code",
   "execution_count": 104,
   "metadata": {},
   "outputs": [
    {
     "data": {
      "text/plain": [
       "count    356.000000\n",
       "mean      80.423174\n",
       "std       32.044927\n",
       "min       19.300000\n",
       "25%       64.800000\n",
       "50%       88.700000\n",
       "75%      108.225000\n",
       "max      118.750000\n",
       "Name: MonthlyCharges, dtype: float64"
      ]
     },
     "execution_count": 104,
     "metadata": {},
     "output_type": "execute_result"
    }
   ],
   "source": [
    "nomo.MonthlyCharges.describe()"
   ]
  },
  {
   "cell_type": "code",
   "execution_count": 105,
   "metadata": {},
   "outputs": [
    {
     "data": {
      "text/plain": [
       "Text(0.5, 0.98, 'Number Churned vs. Monthly Charges')"
      ]
     },
     "execution_count": 105,
     "metadata": {},
     "output_type": "execute_result"
    },
    {
     "data": {
      "image/png": "[encoded data removed]",
      "text/plain": [
       "<Figure size 432x288 with 1 Axes>"
      ]
     },
     "metadata": {
      "needs_background": "light"
     },
     "output_type": "display_data"
    }
   ],
   "source": [
    "#Now lets just compare monthly charges vs churn\n",
    "#We see that higher contract prices are in the higher churn percent\n",
    "churn_yes_df.MonthlyCharges.hist(bins=20)\n",
    "plt.suptitle(\"Number Churned vs. Monthly Charges\")"
   ]
  },
  {
   "cell_type": "code",
   "execution_count": 106,
   "metadata": {},
   "outputs": [
    {
     "data": {
      "text/plain": [
       "(73.575, 78.55]      186\n",
       "(83.525, 88.5]       178\n",
       "(93.475, 98.45]      176\n",
       "(78.55, 83.525]      176\n",
       "(68.6, 73.575]       163\n",
       "(98.45, 103.425]     163\n",
       "(88.5, 93.475]       136\n",
       "(103.425, 108.4]     114\n",
       "(18.75, 23.825]      105\n",
       "(43.725, 48.7]        94\n",
       "(48.7, 53.675]        80\n",
       "(53.675, 58.65]       70\n",
       "(23.825, 28.8]        45\n",
       "(108.4, 113.375]      38\n",
       "(58.65, 63.625]       30\n",
       "(38.75, 43.725]       30\n",
       "(28.8, 33.775]        29\n",
       "(33.775, 38.75]       26\n",
       "(63.625, 68.6]        21\n",
       "(113.375, 118.35]      9\n",
       "Name: MonthlyCharges, dtype: int64"
      ]
     },
     "execution_count": 106,
     "metadata": {},
     "output_type": "execute_result"
    }
   ],
   "source": [
    "churn_yes_df.MonthlyCharges.value_counts(bins=20)"
   ]
  },
  {
   "cell_type": "code",
   "execution_count": 107,
   "metadata": {},
   "outputs": [
    {
     "data": {
      "text/plain": [
       "count    1869.000000\n",
       "mean       74.441332\n",
       "std        24.666053\n",
       "min        18.850000\n",
       "25%        56.150000\n",
       "50%        79.650000\n",
       "75%        94.200000\n",
       "max       118.350000\n",
       "Name: MonthlyCharges, dtype: float64"
      ]
     },
     "execution_count": 107,
     "metadata": {},
     "output_type": "execute_result"
    }
   ],
   "source": [
    "churn_yes_df.MonthlyCharges.describe()\n",
    "\n",
    "#We see here that higher mean price in the monthly charges that churned."
   ]
  },
  {
   "cell_type": "code",
   "execution_count": 131,
   "metadata": {},
   "outputs": [
    {
     "data": {
      "text/plain": [
       "Text(0.5, 0.98, 'Number NOT-Churned vs Monthly charges')"
      ]
     },
     "execution_count": 131,
     "metadata": {},
     "output_type": "execute_result"
    },
    {
     "data": {
      "image/png": "[encoded data removed]",
      "text/plain": [
       "<Figure size 432x288 with 1 Axes>"
      ]
     },
     "metadata": {
      "needs_background": "light"
     },
     "output_type": "display_data"
    }
   ],
   "source": [
    "churn_no_df.MonthlyCharges.hist(bins=20, color='green')\n",
    "plt.suptitle(\"Number NOT-Churned vs Monthly charges\")"
   ]
  },
  {
   "cell_type": "code",
   "execution_count": 109,
   "metadata": {},
   "outputs": [
    {
     "data": {
      "text/plain": [
       "(18.148999999999997, 23.275]    1083\n",
       "(23.275, 28.3]                   375\n",
       "(78.55, 83.575]                  325\n",
       "(88.6, 93.625]                   305\n",
       "(83.575, 88.6]                   273\n",
       "(73.525, 78.55]                  272\n",
       "(68.5, 73.525]                   272\n",
       "(53.425, 58.45]                  261\n",
       "(103.675, 108.7]                 249\n",
       "(93.625, 98.65]                  248\n",
       "(98.65, 103.675]                 233\n",
       "(48.4, 53.425]                   227\n",
       "(58.45, 63.475]                  216\n",
       "(63.475, 68.5]                   204\n",
       "(43.375, 48.4]                   173\n",
       "(108.7, 113.725]                 163\n",
       "(113.725, 118.75]                 88\n",
       "(33.325, 38.35]                   77\n",
       "(38.35, 43.375]                   73\n",
       "(28.3, 33.325]                    57\n",
       "Name: MonthlyCharges, dtype: int64"
      ]
     },
     "execution_count": 109,
     "metadata": {},
     "output_type": "execute_result"
    }
   ],
   "source": [
    "#We see here that for the no churn category, that there is s significant amount of low contract prices which will have low churn\n",
    "churn_no_df.MonthlyCharges.value_counts(bins=20)"
   ]
  },
  {
   "cell_type": "code",
   "execution_count": 110,
   "metadata": {},
   "outputs": [
    {
     "data": {
      "text/plain": [
       "count    5174.000000\n",
       "mean       61.265124\n",
       "std        31.092648\n",
       "min        18.250000\n",
       "25%        25.100000\n",
       "50%        64.425000\n",
       "75%        88.400000\n",
       "max       118.750000\n",
       "Name: MonthlyCharges, dtype: float64"
      ]
     },
     "execution_count": 110,
     "metadata": {},
     "output_type": "execute_result"
    }
   ],
   "source": [
    "#so far, we see that we avoid month to month contracts, we focus on a contract price of $18-23\n",
    "churn_no_df.MonthlyCharges.describe()"
   ]
  },
  {
   "cell_type": "code",
   "execution_count": 111,
   "metadata": {},
   "outputs": [],
   "source": [
    "#What is month to month contract pricing vs 1_year vs 2_year?\n",
    "#Let us analyze total charges"
   ]
  },
  {
   "cell_type": "code",
   "execution_count": 112,
   "metadata": {},
   "outputs": [],
   "source": [
    "#Rather than month to month, offer low prices but at least annual contracts\n",
    "#Create a survey for customers who are churning to see if price was too high when they are leaving. Subjective feedback could also be useful\n",
    "\n"
   ]
  },
  {
   "cell_type": "code",
   "execution_count": 113,
   "metadata": {},
   "outputs": [
    {
     "data": {
      "text/plain": [
       "count     5174\n",
       "unique    4966\n",
       "top           \n",
       "freq        11\n",
       "Name: TotalCharges, dtype: object"
      ]
     },
     "execution_count": 113,
     "metadata": {},
     "output_type": "execute_result"
    }
   ],
   "source": [
    "churn_no_df.TotalCharges.describe()"
   ]
  },
  {
   "cell_type": "code",
   "execution_count": 114,
   "metadata": {},
   "outputs": [
    {
     "data": {
      "text/plain": [
       "count     1869\n",
       "unique    1732\n",
       "top       20.2\n",
       "freq         6\n",
       "Name: TotalCharges, dtype: object"
      ]
     },
     "execution_count": 114,
     "metadata": {},
     "output_type": "execute_result"
    }
   ],
   "source": [
    "churn_yes_df.TotalCharges.describe()"
   ]
  },
  {
   "cell_type": "code",
   "execution_count": 115,
   "metadata": {},
   "outputs": [
    {
     "name": "stderr",
     "output_type": "stream",
     "text": [
      "C:\\Users\\booos\\anaconda3\\envs\\learn-env\\lib\\site-packages\\pandas\\core\\frame.py:4163: SettingWithCopyWarning: \n",
      "A value is trying to be set on a copy of a slice from a DataFrame\n",
      "\n",
      "See the caveats in the documentation: https://pandas.pydata.org/pandas-docs/stable/user_guide/indexing.html#returning-a-view-versus-a-copy\n",
      "  return super().drop(\n",
      "<ipython-input-115-849a019bd932>:4: SettingWithCopyWarning: \n",
      "A value is trying to be set on a copy of a slice from a DataFrame.\n",
      "Try using .loc[row_indexer,col_indexer] = value instead\n",
      "\n",
      "See the caveats in the documentation: https://pandas.pydata.org/pandas-docs/stable/user_guide/indexing.html#returning-a-view-versus-a-copy\n",
      "  churn_no_df['TotalCharges'] = churn_no_df['TotalCharges'].astype(float)\n"
     ]
    }
   ],
   "source": [
    "listblankindices = churn_no_df[(churn_no_df['TotalCharges'] == ' ')].index\n",
    "churn_no_df.drop(listblankindices, inplace=True)\n",
    "churn_no_df.reset_index(drop=True, inplace=True)\n",
    "churn_no_df['TotalCharges'] = churn_no_df['TotalCharges'].astype(float)"
   ]
  },
  {
   "cell_type": "code",
   "execution_count": 116,
   "metadata": {},
   "outputs": [
    {
     "data": {
      "text/plain": [
       "(10.145000000000001, 451.483]    1081\n",
       "(451.483, 884.165]                604\n",
       "(884.165, 1316.848]               518\n",
       "(1316.848, 1749.53]               437\n",
       "(1749.53, 2182.213]               291\n",
       "(2182.213, 2614.895]              215\n",
       "(3912.943, 4345.625]              193\n",
       "(3047.578, 3480.26]               191\n",
       "(3480.26, 3912.943]               190\n",
       "(2614.895, 3047.578]              190\n",
       "(5643.673, 6076.355]              176\n",
       "(4778.308, 5210.99]               174\n",
       "(4345.625, 4778.308]              167\n",
       "(5210.99, 5643.673]               159\n",
       "(6076.355, 6509.038]              139\n",
       "(6509.038, 6941.72]               128\n",
       "(6941.72, 7374.403]               108\n",
       "(7374.403, 7807.085]               85\n",
       "(7807.085, 8239.768]               75\n",
       "(8239.768, 8672.45]                42\n",
       "Name: TotalCharges, dtype: int64"
      ]
     },
     "execution_count": 116,
     "metadata": {},
     "output_type": "execute_result"
    }
   ],
   "source": [
    "churn_no_df.TotalCharges.value_counts(bins=20)"
   ]
  },
  {
   "cell_type": "code",
   "execution_count": 117,
   "metadata": {},
   "outputs": [
    {
     "data": {
      "text/plain": [
       "Text(0.5, 0.98, 'NO-Churn Total Charges')"
      ]
     },
     "execution_count": 117,
     "metadata": {},
     "output_type": "execute_result"
    },
    {
     "data": {
      "image/png": "[encoded data removed]",
      "text/plain": [
       "<Figure size 432x288 with 1 Axes>"
      ]
     },
     "metadata": {
      "needs_background": "light"
     },
     "output_type": "display_data"
    }
   ],
   "source": [
    "churn_no_df.TotalCharges.hist(bins=20)\n",
    "plt.suptitle(\"NO-Churn Total Charges\")"
   ]
  },
  {
   "cell_type": "code",
   "execution_count": 118,
   "metadata": {},
   "outputs": [
    {
     "name": "stderr",
     "output_type": "stream",
     "text": [
      "C:\\Users\\booos\\anaconda3\\envs\\learn-env\\lib\\site-packages\\pandas\\core\\frame.py:4163: SettingWithCopyWarning: \n",
      "A value is trying to be set on a copy of a slice from a DataFrame\n",
      "\n",
      "See the caveats in the documentation: https://pandas.pydata.org/pandas-docs/stable/user_guide/indexing.html#returning-a-view-versus-a-copy\n",
      "  return super().drop(\n",
      "<ipython-input-118-ca779ab08f39>:4: SettingWithCopyWarning: \n",
      "A value is trying to be set on a copy of a slice from a DataFrame.\n",
      "Try using .loc[row_indexer,col_indexer] = value instead\n",
      "\n",
      "See the caveats in the documentation: https://pandas.pydata.org/pandas-docs/stable/user_guide/indexing.html#returning-a-view-versus-a-copy\n",
      "  churn_yes_df['TotalCharges'] = churn_yes_df['TotalCharges'].astype(float)\n"
     ]
    }
   ],
   "source": [
    "listblankindices = churn_yes_df[(churn_yes_df['TotalCharges'] == ' ')].index\n",
    "churn_yes_df.drop(listblankindices, inplace=True)\n",
    "churn_yes_df.reset_index(drop=True, inplace=True)\n",
    "churn_yes_df['TotalCharges'] = churn_yes_df['TotalCharges'].astype(float)"
   ]
  },
  {
   "cell_type": "code",
   "execution_count": 119,
   "metadata": {},
   "outputs": [
    {
     "data": {
      "text/plain": [
       "Text(0.5, 0.98, 'Number churned vs TotalCharges')"
      ]
     },
     "execution_count": 119,
     "metadata": {},
     "output_type": "execute_result"
    },
    {
     "data": {
      "image/png": "[encoded data removed]",
      "text/plain": [
       "<Figure size 432x288 with 1 Axes>"
      ]
     },
     "metadata": {
      "needs_background": "light"
     },
     "output_type": "display_data"
    }
   ],
   "source": [
    "churn_yes_df.TotalCharges.hist(bins=20)\n",
    "plt.suptitle(\"Number churned vs TotalCharges\")"
   ]
  },
  {
   "cell_type": "code",
   "execution_count": 120,
   "metadata": {},
   "outputs": [
    {
     "data": {
      "text/plain": [
       "(10.183, 452.148]       799\n",
       "(452.148, 885.445]      225\n",
       "(885.445, 1318.742]     167\n",
       "(1318.742, 1752.04]     104\n",
       "(2185.337, 2618.635]     89\n",
       "(1752.04, 2185.337]      77\n",
       "(2618.635, 3051.932]     74\n",
       "(3051.932, 3485.23]      51\n",
       "(3918.527, 4351.825]     39\n",
       "(4351.825, 4785.122]     37\n",
       "(5218.42, 5651.718]      35\n",
       "(3485.23, 3918.527]      34\n",
       "(4785.122, 5218.42]      32\n",
       "(6085.015, 6518.312]     26\n",
       "(5651.718, 6085.015]     23\n",
       "(6518.312, 6951.61]      20\n",
       "(6951.61, 7384.907]      17\n",
       "(7384.907, 7818.205]     15\n",
       "(7818.205, 8251.502]      4\n",
       "(8251.502, 8684.8]        1\n",
       "Name: TotalCharges, dtype: int64"
      ]
     },
     "execution_count": 120,
     "metadata": {},
     "output_type": "execute_result"
    }
   ],
   "source": [
    "churn_yes_df.TotalCharges.value_counts(bins=20)"
   ]
  },
  {
   "cell_type": "code",
   "execution_count": 121,
   "metadata": {},
   "outputs": [],
   "source": [
    "#we see here total churn reflects the high number of early month to month churners"
   ]
  },
  {
   "cell_type": "code",
   "execution_count": 122,
   "metadata": {},
   "outputs": [
    {
     "data": {
      "text/plain": [
       "Fiber optic    1297\n",
       "DSL             459\n",
       "No              113\n",
       "Name: InternetService, dtype: int64"
      ]
     },
     "execution_count": 122,
     "metadata": {},
     "output_type": "execute_result"
    }
   ],
   "source": [
    "churn_yes_df.InternetService.value_counts()"
   ]
  },
  {
   "cell_type": "code",
   "execution_count": 123,
   "metadata": {},
   "outputs": [
    {
     "data": {
      "image/png": "[encoded data removed]",
      "text/plain": [
       "<Figure size 468x468 with 1 Axes>"
      ]
     },
     "metadata": {},
     "output_type": "display_data"
    }
   ],
   "source": [
    "d = {'Internet service yes churn': [1297, 459, 113]}\n",
    "df_Int_serv = pd.DataFrame(data=d, index=['Fiber optic','DSL', 'No'])\n",
    "plot = df_Int_serv.plot.pie(y='Internet service yes churn', autopct='%1.1f%%', figsize=(6.5, 6.5))"
   ]
  },
  {
   "cell_type": "code",
   "execution_count": 124,
   "metadata": {},
   "outputs": [
    {
     "data": {
      "text/plain": [
       "DSL            1957\n",
       "Fiber optic    1799\n",
       "No             1407\n",
       "Name: InternetService, dtype: int64"
      ]
     },
     "execution_count": 124,
     "metadata": {},
     "output_type": "execute_result"
    }
   ],
   "source": [
    "churn_no_df.InternetService.value_counts()"
   ]
  },
  {
   "cell_type": "code",
   "execution_count": 125,
   "metadata": {},
   "outputs": [
    {
     "data": {
      "image/png": "[encoded data removed]",
      "text/plain": [
       "<Figure size 468x468 with 1 Axes>"
      ]
     },
     "metadata": {},
     "output_type": "display_data"
    }
   ],
   "source": [
    "d = {'Internet service no churn': [1957, 1799, 1407]}\n",
    "df_Int_serv1 = pd.DataFrame(data=d, index=['Fiber optic','DSL', 'No'])\n",
    "plot = df_Int_serv1.plot.pie(y='Internet service no churn', autopct='%1.1f%%', figsize=(6.5, 6.5))"
   ]
  },
  {
   "cell_type": "code",
   "execution_count": 126,
   "metadata": {},
   "outputs": [],
   "source": [
    "# Recommendations based on the internet service type?\n",
    "# Figure out if maybe a service provider type can be a reason for churn. Maybe the service provider is slower than the other. Location data and the major provider in the area\n",
    "#Future work: need more data!\n",
    "#Fiber optic customers are tied in with the phone plan for yes_churn\n",
    "# - Maybe for customer retention strategy, investigate your fiber optic lines maybe offer less as an option to retain the customer\n"
   ]
  }
 ],
 "metadata": {
  "kernelspec": {
   "display_name": "Python 3",
   "language": "python",
   "name": "python3"
  },
  "language_info": {
   "codemirror_mode": {
    "name": "ipython",
    "version": 3
   },
   "file_extension": ".py",
   "mimetype": "text/x-python",
   "name": "python",
   "nbconvert_exporter": "python",
   "pygments_lexer": "ipython3",
   "version": "3.8.5"
  }
 },
 "nbformat": 4,
 "nbformat_minor": 4
}
